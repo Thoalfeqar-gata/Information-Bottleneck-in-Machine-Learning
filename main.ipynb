{
 "cells": [
  {
   "cell_type": "markdown",
   "metadata": {},
   "source": [
    "# Information Bottleneck"
   ]
  },
  {
   "cell_type": "code",
   "execution_count": 1,
   "metadata": {},
   "outputs": [],
   "source": [
    "import tensorflow as tf, keras, numpy as np, matplotlib.pyplot as plt, cv2"
   ]
  },
  {
   "cell_type": "markdown",
   "metadata": {},
   "source": [
    "Load the mnist dataset"
   ]
  },
  {
   "cell_type": "code",
   "execution_count": 2,
   "metadata": {},
   "outputs": [],
   "source": [
    "dataset = keras.datasets.mnist.load_data()\n",
    "(X_train, y_train), (X_test, y_test) = dataset\n",
    "X_train, X_test = X_train/255.0, X_test/255.0 #normalize the input\n",
    "y_train, y_test = keras.utils.to_categorical(y_train), keras.utils.to_categorical(y_test)"
   ]
  },
  {
   "cell_type": "markdown",
   "metadata": {},
   "source": [
    "Explore the dataset"
   ]
  },
  {
   "cell_type": "code",
   "execution_count": 3,
   "metadata": {},
   "outputs": [
    {
     "data": {
      "image/png": "[encoded data removed]",
      "text/plain": [
       "<Figure size 500x550 with 4 Axes>"
      ]
     },
     "metadata": {},
     "output_type": "display_data"
    }
   ],
   "source": [
    "samples = np.random.randint(0, X_train.shape[0]+1, 4)\n",
    "\n",
    "plt.figure(figsize = (5, 5.5))\n",
    "for i in range(4):\n",
    "    plt.subplot(2, 2, i+1)\n",
    "    plt.title(label = f'Label: {np.argmax(y_train[samples[i]])}')\n",
    "    plt.imshow(X_train[samples[i]], cmap = 'gray')\n",
    "\n",
    "plt.show()"
   ]
  },
  {
   "cell_type": "markdown",
   "metadata": {},
   "source": [
    "VIB implementation"
   ]
  },
  {
   "cell_type": "code",
   "execution_count": null,
   "metadata": {},
   "outputs": [],
   "source": [
    "class VIBModel(keras.Model):\n",
    "    def __init__(self, latent_dim=32, beta=1e-3):\n",
    "        super(VIBModel, self).__init__()\n",
    "        # Encoder: Maps input to μ and log(σ²)\n",
    "        self.encoder = keras.Sequential([\n",
    "            keras.layers.Flatten(),\n",
    "            keras.layers.Dense(256, 'relu'),\n",
    "            keras.layers.Dropout(0.25),\n",
    "            \n",
    "            keras.layers.Dense(128, 'relu'),\n",
    "            keras.layers.Dropout(0.25),\n",
    "            \n",
    "            keras.layers.Dense(2 * latent_dim)  # Output [μ, log_var]\n",
    "        ])\n",
    "        # Classifier: Maps latent z to class probabilities\n",
    "        self.classifier = keras.Sequential([\n",
    "            keras.layers.Dense(10, 'softmax')\n",
    "        ])\n",
    "        self.beta = beta\n",
    "        self.optimizer = keras.optimizers.Adam()\n",
    "        \n",
    "    def call(self, inputs):\n",
    "        # Step 1: Encoder outputs μ and log_var\n",
    "        params = self.encoder(inputs)\n",
    "        mean, log_var = tf.split(params, num_or_size_splits=2, axis=1)\n",
    "        \n",
    "        # Step 2: Reparameterization trick to sample z ~ N(μ, σ²)\n",
    "        epsilon = tf.random.normal(shape=tf.shape(mean))\n",
    "        z = mean + epsilon * tf.exp(0.5 * log_var)\n",
    "        \n",
    "        # KL Divergence (Compression)\n",
    "        kl_loss = self.KL_loss(mean, log_var)\n",
    "        self.add_loss(self.beta*kl_loss)\n",
    "        \n",
    "        # Step 3: Classify z\n",
    "        y_pred = self.classifier(z)\n",
    "        return y_pred, mean, log_var\n",
    "    \n",
    "    def train_step(self, data):\n",
    "        x, y = data  # Unpack batch\n",
    "        \n",
    "        with tf.GradientTape() as tape:\n",
    "            # Forward pass\n",
    "            y_pred, mean, log_var = self(x, training=True)\n",
    "            \n",
    "            # Cross-Entropy (Classification)\n",
    "            ce_loss = tf.reduce_mean(\n",
    "                keras.losses.categorical_crossentropy(y, y_pred)\n",
    "            )\n",
    "            # KL Divergence (Compression)\n",
    "            kl_loss = self.KL_loss(mean, log_var)\n",
    "            \n",
    "            # Total Loss = CE + β*KL\n",
    "            total_loss = ce_loss + self.beta * kl_loss\n",
    "            \n",
    "        # Compute gradients and update weights\n",
    "        \n",
    "        gradients = tape.gradient(total_loss, self.trainable_variables)\n",
    "        self.optimizer.apply_gradients(zip(gradients, self.trainable_variables))\n",
    "        \n",
    "        # Track metrics\n",
    "        return {\n",
    "            \"ce_loss\": ce_loss,\n",
    "            \"kl_loss\": kl_loss,\n",
    "            \"total_loss\": total_loss,\n",
    "            \"accuracy\": tf.reduce_mean(keras.metrics.categorical_accuracy(y, y_pred))\n",
    "        }\n",
    "        \n",
    "    def KL_loss(self, mean, log_var):\n",
    "        return tf.reduce_mean(-0.5 * tf.reduce_sum(1 + log_var-tf.square(mean) - tf.exp(log_var), axis = 1))"
   ]
  },
  {
   "cell_type": "markdown",
   "metadata": {},
   "source": [
    "Model Training"
   ]
  },
  {
   "cell_type": "code",
   "execution_count": 5,
   "metadata": {},
   "outputs": [
    {
     "name": "stdout",
     "output_type": "stream",
     "text": [
      "Epoch 1/20\n",
      "\u001b[1m469/469\u001b[0m \u001b[32m━━━━━━━━━━━━━━━━━━━━\u001b[0m\u001b[37m\u001b[0m \u001b[1m2s\u001b[0m 3ms/step - accuracy: 0.9070 - ce_loss: 0.3048 - kl_loss: 46.2739 - total_loss: 0.3511 - val_loss: 0.2035\n",
      "Epoch 2/20\n",
      "\u001b[1m469/469\u001b[0m \u001b[32m━━━━━━━━━━━━━━━━━━━━\u001b[0m\u001b[37m\u001b[0m \u001b[1m2s\u001b[0m 3ms/step - accuracy: 0.9663 - ce_loss: 0.1128 - kl_loss: 39.1667 - total_loss: 0.1520 - val_loss: 0.1307\n",
      "Epoch 3/20\n",
      "\u001b[1m469/469\u001b[0m \u001b[32m━━━━━━━━━━━━━━━━━━━━\u001b[0m\u001b[37m\u001b[0m \u001b[1m2s\u001b[0m 3ms/step - accuracy: 0.9776 - ce_loss: 0.0747 - kl_loss: 34.1754 - total_loss: 0.1088 - val_loss: 0.1217\n",
      "Epoch 4/20\n",
      "\u001b[1m469/469\u001b[0m \u001b[32m━━━━━━━━━━━━━━━━━━━━\u001b[0m\u001b[37m\u001b[0m \u001b[1m1s\u001b[0m 3ms/step - accuracy: 0.9832 - ce_loss: 0.0566 - kl_loss: 31.7092 - total_loss: 0.0883 - val_loss: 0.1159\n",
      "Epoch 5/20\n",
      "\u001b[1m469/469\u001b[0m \u001b[32m━━━━━━━━━━━━━━━━━━━━\u001b[0m\u001b[37m\u001b[0m \u001b[1m1s\u001b[0m 3ms/step - accuracy: 0.9863 - ce_loss: 0.0451 - kl_loss: 29.7710 - total_loss: 0.0749 - val_loss: 0.1141\n",
      "Epoch 6/20\n",
      "\u001b[1m469/469\u001b[0m \u001b[32m━━━━━━━━━━━━━━━━━━━━\u001b[0m\u001b[37m\u001b[0m \u001b[1m1s\u001b[0m 3ms/step - accuracy: 0.9892 - ce_loss: 0.0352 - kl_loss: 27.5878 - total_loss: 0.0628 - val_loss: 0.1190\n",
      "Epoch 7/20\n",
      "\u001b[1m469/469\u001b[0m \u001b[32m━━━━━━━━━━━━━━━━━━━━\u001b[0m\u001b[37m\u001b[0m \u001b[1m2s\u001b[0m 3ms/step - accuracy: 0.9912 - ce_loss: 0.0291 - kl_loss: 25.7697 - total_loss: 0.0548 - val_loss: 0.1001\n",
      "Epoch 8/20\n",
      "\u001b[1m469/469\u001b[0m \u001b[32m━━━━━━━━━━━━━━━━━━━━\u001b[0m\u001b[37m\u001b[0m \u001b[1m2s\u001b[0m 3ms/step - accuracy: 0.9927 - ce_loss: 0.0247 - kl_loss: 24.3140 - total_loss: 0.0490 - val_loss: 0.1068\n",
      "Epoch 9/20\n",
      "\u001b[1m469/469\u001b[0m \u001b[32m━━━━━━━━━━━━━━━━━━━━\u001b[0m\u001b[37m\u001b[0m \u001b[1m2s\u001b[0m 4ms/step - accuracy: 0.9940 - ce_loss: 0.0204 - kl_loss: 23.1231 - total_loss: 0.0435 - val_loss: 0.1071\n",
      "Epoch 10/20\n",
      "\u001b[1m469/469\u001b[0m \u001b[32m━━━━━━━━━━━━━━━━━━━━\u001b[0m\u001b[37m\u001b[0m \u001b[1m2s\u001b[0m 3ms/step - accuracy: 0.9949 - ce_loss: 0.0174 - kl_loss: 22.1572 - total_loss: 0.0396 - val_loss: 0.0965\n",
      "Epoch 11/20\n",
      "\u001b[1m469/469\u001b[0m \u001b[32m━━━━━━━━━━━━━━━━━━━━\u001b[0m\u001b[37m\u001b[0m \u001b[1m2s\u001b[0m 4ms/step - accuracy: 0.9947 - ce_loss: 0.0166 - kl_loss: 21.2823 - total_loss: 0.0379 - val_loss: 0.1006\n",
      "Epoch 12/20\n",
      "\u001b[1m469/469\u001b[0m \u001b[32m━━━━━━━━━━━━━━━━━━━━\u001b[0m\u001b[37m\u001b[0m \u001b[1m1s\u001b[0m 3ms/step - accuracy: 0.9955 - ce_loss: 0.0150 - kl_loss: 20.5209 - total_loss: 0.0355 - val_loss: 0.1098\n",
      "Epoch 13/20\n",
      "\u001b[1m469/469\u001b[0m \u001b[32m━━━━━━━━━━━━━━━━━━━━\u001b[0m\u001b[37m\u001b[0m \u001b[1m1s\u001b[0m 3ms/step - accuracy: 0.9964 - ce_loss: 0.0119 - kl_loss: 19.5021 - total_loss: 0.0314 - val_loss: 0.1084\n",
      "Epoch 14/20\n",
      "\u001b[1m469/469\u001b[0m \u001b[32m━━━━━━━━━━━━━━━━━━━━\u001b[0m\u001b[37m\u001b[0m \u001b[1m1s\u001b[0m 3ms/step - accuracy: 0.9966 - ce_loss: 0.0116 - kl_loss: 19.0598 - total_loss: 0.0307 - val_loss: 0.0966\n",
      "Epoch 15/20\n",
      "\u001b[1m469/469\u001b[0m \u001b[32m━━━━━━━━━━━━━━━━━━━━\u001b[0m\u001b[37m\u001b[0m \u001b[1m1s\u001b[0m 3ms/step - accuracy: 0.9964 - ce_loss: 0.0108 - kl_loss: 18.3193 - total_loss: 0.0292 - val_loss: 0.1107\n",
      "Epoch 16/20\n",
      "\u001b[1m469/469\u001b[0m \u001b[32m━━━━━━━━━━━━━━━━━━━━\u001b[0m\u001b[37m\u001b[0m \u001b[1m1s\u001b[0m 3ms/step - accuracy: 0.9970 - ce_loss: 0.0102 - kl_loss: 17.8985 - total_loss: 0.0281 - val_loss: 0.1086\n",
      "Epoch 17/20\n",
      "\u001b[1m469/469\u001b[0m \u001b[32m━━━━━━━━━━━━━━━━━━━━\u001b[0m\u001b[37m\u001b[0m \u001b[1m1s\u001b[0m 3ms/step - accuracy: 0.9971 - ce_loss: 0.0105 - kl_loss: 17.5562 - total_loss: 0.0281 - val_loss: 0.1044\n",
      "Epoch 18/20\n",
      "\u001b[1m469/469\u001b[0m \u001b[32m━━━━━━━━━━━━━━━━━━━━\u001b[0m\u001b[37m\u001b[0m \u001b[1m1s\u001b[0m 3ms/step - accuracy: 0.9970 - ce_loss: 0.0100 - kl_loss: 17.2261 - total_loss: 0.0272 - val_loss: 0.1030\n",
      "Epoch 19/20\n",
      "\u001b[1m469/469\u001b[0m \u001b[32m━━━━━━━━━━━━━━━━━━━━\u001b[0m\u001b[37m\u001b[0m \u001b[1m1s\u001b[0m 3ms/step - accuracy: 0.9975 - ce_loss: 0.0094 - kl_loss: 16.8035 - total_loss: 0.0262 - val_loss: 0.1259\n",
      "Epoch 20/20\n",
      "\u001b[1m469/469\u001b[0m \u001b[32m━━━━━━━━━━━━━━━━━━━━\u001b[0m\u001b[37m\u001b[0m \u001b[1m2s\u001b[0m 3ms/step - accuracy: 0.9974 - ce_loss: 0.0087 - kl_loss: 16.8578 - total_loss: 0.0255 - val_loss: 0.1080\n"
     ]
    }
   ],
   "source": [
    "vib_model = VIBModel(latent_dim=32, beta=1e-3)\n",
    "vib_model.compile(loss = keras.losses.CategoricalCrossentropy())\n",
    "# Train\n",
    "history = vib_model.fit(\n",
    "    X_train, y_train,\n",
    "    epochs=20,\n",
    "    batch_size=128,\n",
    "    validation_data=(X_test, y_test)\n",
    ")"
   ]
  },
  {
   "cell_type": "code",
   "execution_count": 6,
   "metadata": {},
   "outputs": [
    {
     "name": "stdout",
     "output_type": "stream",
     "text": [
      "\u001b[1m313/313\u001b[0m \u001b[32m━━━━━━━━━━━━━━━━━━━━\u001b[0m\u001b[37m\u001b[0m \u001b[1m0s\u001b[0m 1ms/step\n",
      "tf.Tensor(0.9809, shape=(), dtype=float32)\n"
     ]
    }
   ],
   "source": [
    "y_pred, mean, log_var = vib_model.predict(X_test)\n",
    "accuracy = tf.reduce_mean(keras.metrics.categorical_accuracy(y_test, y_pred))\n",
    "print(accuracy)"
   ]
  },
  {
   "cell_type": "code",
   "execution_count": 7,
   "metadata": {},
   "outputs": [
    {
     "data": {
      "image/png": "[encoded data removed]",
      "text/plain": [
       "<Figure size 640x480 with 1 Axes>"
      ]
     },
     "metadata": {},
     "output_type": "display_data"
    }
   ],
   "source": [
    "image = 1-cv2.resize(cv2.imread('Untitled.png', cv2.IMREAD_GRAYSCALE), (28, 28))/255.0\n",
    "plt.axis('off')\n",
    "plt.imshow(image, cmap = 'gray')\n",
    "plt.show()"
   ]
  },
  {
   "cell_type": "code",
   "execution_count": 30,
   "metadata": {},
   "outputs": [
    {
     "name": "stdout",
     "output_type": "stream",
     "text": [
      "\u001b[1m1/1\u001b[0m \u001b[32m━━━━━━━━━━━━━━━━━━━━\u001b[0m\u001b[37m\u001b[0m \u001b[1m0s\u001b[0m 15ms/step\n",
      "Predicted label:  5\n"
     ]
    }
   ],
   "source": [
    "pred, mean, log_var = vib_model.predict(np.expand_dims(image, axis = 0))\n",
    "print('Predicted label: ', np.argmax(pred))"
   ]
  },
  {
   "cell_type": "markdown",
   "metadata": {},
   "source": [
    "# Decodable Information Bottleneck"
   ]
  },
  {
   "cell_type": "markdown",
   "metadata": {},
   "source": [
    "Model Implementation"
   ]
  },
  {
   "cell_type": "code",
   "execution_count": null,
   "metadata": {},
   "outputs": [],
   "source": [
    "class DIBModel(keras.Model):\n",
    "    def __init__(self, latent_dim=32, beta=1e-3, gamma = 1e-3):\n",
    "        super(DIBModel, self).__init__()\n",
    "        # Encoder: Maps input to μ and log(σ²)\n",
    "        self.encoder = keras.Sequential([\n",
    "            keras.layers.Flatten(),\n",
    "            keras.layers.Dense(256, 'relu'),\n",
    "            keras.layers.Dropout(0.25),\n",
    "            \n",
    "            keras.layers.Dense(128, 'relu'),\n",
    "            keras.layers.Dropout(0.25),\n",
    "            \n",
    "            keras.layers.Dense(2 * latent_dim)  # Output [μ, log_var]\n",
    "        ])\n",
    "        # Classifier: Maps latent z to class probabilities\n",
    "        self.classifier = keras.Sequential([\n",
    "            keras.layers.Dense(10, 'softmax')\n",
    "        ])\n",
    "        \n",
    "        # Decoder: Maps latent z back to the input (reconstructs the input from z) \n",
    "        self.decoder = keras.Sequential([\n",
    "            keras.layers.Dense(128, 'relu'),\n",
    "            keras.layers.Dropout(0.25),\n",
    "            keras.layers.Dense(256, 'relu'),\n",
    "            keras.layers.Dropout(0.25),\n",
    "            keras.layers.Dense(28*28, 'sigmoid'),\n",
    "            keras.layers.Reshape(target_shape = (28, 28, 1))\n",
    "        ])\n",
    "        self.beta = beta\n",
    "        self.gamma = gamma\n",
    "        self.optimizer = keras.optimizers.Adam()\n",
    "        \n",
    "    def call(self, inputs):\n",
    "        # Step 1: Encoder outputs μ and log_var\n",
    "        params = self.encoder(inputs)\n",
    "        mean, log_var = tf.split(params, num_or_size_splits=2, axis=1)\n",
    "        \n",
    "        # Step 2: Reparameterization trick to sample z ~ N(μ, σ²)\n",
    "        epsilon = tf.random.normal(shape=tf.shape(mean))\n",
    "        z = mean + epsilon * tf.exp(0.5 * log_var)\n",
    "        \n",
    "        # KL Divergence (Compression)\n",
    "        kl_loss = self.KL_loss(mean, log_var)\n",
    "        self.add_loss(self.beta*kl_loss)\n",
    "        \n",
    "        # Reconstruction loss\n",
    "        x_recon = self.decoder(z)\n",
    "        recon_loss = tf.reduce_mean(keras.losses.mean_squared_error(inputs, x_recon))\n",
    "        self.add_loss(self.gamma*recon_loss)\n",
    "        \n",
    "        \n",
    "        # Step 3: Classify z\n",
    "        y_pred = self.classifier(z)\n",
    "        return y_pred, x_recon, mean, log_var\n",
    "    \n",
    "    def train_step(self, data):\n",
    "        x, y = data  # Unpack batch\n",
    "        \n",
    "        with tf.GradientTape() as tape:\n",
    "            # Forward pass\n",
    "            y_pred, x_recon, mean, log_var = self(x, training=True)\n",
    "            \n",
    "            # Cross-Entropy (Classification)\n",
    "            ce_loss = tf.reduce_mean(\n",
    "                keras.losses.categorical_crossentropy(y, y_pred)\n",
    "            )\n",
    "            # KL Divergence (Compression)\n",
    "            kl_loss = self.KL_loss(mean, log_var)\n",
    "            \n",
    "            # Reconstruction loss\n",
    "            recon_loss = tf.reduce_mean(keras.losses.mean_squared_error(x, x_recon))\n",
    "            # Total Loss = CE + β*KL + 𝛾*reconstruction\n",
    "            total_loss = ce_loss + self.beta * kl_loss + self.gamma * recon_loss\n",
    "            \n",
    "        # Compute gradients and update weights\n",
    "        \n",
    "        gradients = tape.gradient(total_loss, self.trainable_variables)\n",
    "        self.optimizer.apply_gradients(zip(gradients, self.trainable_variables))\n",
    "        \n",
    "        # Track metrics\n",
    "        return {\n",
    "            \"ce_loss\": ce_loss,\n",
    "            \"kl_loss\": kl_loss,\n",
    "            \"recon_loss\" : recon_loss,\n",
    "            \"total_loss\": total_loss,\n",
    "            \"accuracy\": tf.reduce_mean(keras.metrics.categorical_accuracy(y, y_pred))\n",
    "        }\n",
    "        \n",
    "    def KL_loss(self, mean, log_var):\n",
    "        return tf.reduce_mean(-0.5 * tf.reduce_sum(1 + log_var-tf.square(mean) - tf.exp(log_var), axis = 1))"
   ]
  },
  {
   "cell_type": "markdown",
   "metadata": {},
   "source": [
    "Model Training"
   ]
  },
  {
   "cell_type": "code",
   "execution_count": 26,
   "metadata": {},
   "outputs": [
    {
     "name": "stdout",
     "output_type": "stream",
     "text": [
      "Epoch 1/20\n",
      "\u001b[1m469/469\u001b[0m \u001b[32m━━━━━━━━━━━━━━━━━━━━\u001b[0m\u001b[37m\u001b[0m \u001b[1m4s\u001b[0m 6ms/step - accuracy: 0.9071 - ce_loss: 0.3068 - kl_loss: 50.1813 - recon_loss: 0.0598 - total_loss: 0.4467 - val_loss: 0.2620\n",
      "Epoch 2/20\n",
      "\u001b[1m469/469\u001b[0m \u001b[32m━━━━━━━━━━━━━━━━━━━━\u001b[0m\u001b[37m\u001b[0m \u001b[1m3s\u001b[0m 6ms/step - accuracy: 0.9670 - ce_loss: 0.1115 - kl_loss: 42.2398 - recon_loss: 0.0470 - total_loss: 0.2242 - val_loss: 0.2029\n",
      "Epoch 3/20\n",
      "\u001b[1m469/469\u001b[0m \u001b[32m━━━━━━━━━━━━━━━━━━━━\u001b[0m\u001b[37m\u001b[0m \u001b[1m3s\u001b[0m 6ms/step - accuracy: 0.9779 - ce_loss: 0.0737 - kl_loss: 39.5369 - recon_loss: 0.0425 - total_loss: 0.1770 - val_loss: 0.1762\n",
      "Epoch 4/20\n",
      "\u001b[1m469/469\u001b[0m \u001b[32m━━━━━━━━━━━━━━━━━━━━\u001b[0m\u001b[37m\u001b[0m \u001b[1m3s\u001b[0m 6ms/step - accuracy: 0.9830 - ce_loss: 0.0548 - kl_loss: 37.2167 - recon_loss: 0.0399 - total_loss: 0.1519 - val_loss: 0.1674\n",
      "Epoch 5/20\n",
      "\u001b[1m469/469\u001b[0m \u001b[32m━━━━━━━━━━━━━━━━━━━━\u001b[0m\u001b[37m\u001b[0m \u001b[1m3s\u001b[0m 6ms/step - accuracy: 0.9874 - ce_loss: 0.0415 - kl_loss: 35.8432 - recon_loss: 0.0380 - total_loss: 0.1343 - val_loss: 0.1570\n",
      "Epoch 6/20\n",
      "\u001b[1m469/469\u001b[0m \u001b[32m━━━━━━━━━━━━━━━━━━━━\u001b[0m\u001b[37m\u001b[0m \u001b[1m3s\u001b[0m 6ms/step - accuracy: 0.9895 - ce_loss: 0.0340 - kl_loss: 34.2999 - recon_loss: 0.0365 - total_loss: 0.1230 - val_loss: 0.1637\n",
      "Epoch 7/20\n",
      "\u001b[1m469/469\u001b[0m \u001b[32m━━━━━━━━━━━━━━━━━━━━\u001b[0m\u001b[37m\u001b[0m \u001b[1m3s\u001b[0m 5ms/step - accuracy: 0.9926 - ce_loss: 0.0253 - kl_loss: 33.1741 - recon_loss: 0.0353 - total_loss: 0.1114 - val_loss: 0.1624\n",
      "Epoch 8/20\n",
      "\u001b[1m469/469\u001b[0m \u001b[32m━━━━━━━━━━━━━━━━━━━━\u001b[0m\u001b[37m\u001b[0m \u001b[1m3s\u001b[0m 5ms/step - accuracy: 0.9934 - ce_loss: 0.0216 - kl_loss: 32.0443 - recon_loss: 0.0343 - total_loss: 0.1051 - val_loss: 0.1613\n",
      "Epoch 9/20\n",
      "\u001b[1m469/469\u001b[0m \u001b[32m━━━━━━━━━━━━━━━━━━━━\u001b[0m\u001b[37m\u001b[0m \u001b[1m2s\u001b[0m 5ms/step - accuracy: 0.9947 - ce_loss: 0.0181 - kl_loss: 31.2133 - recon_loss: 0.0332 - total_loss: 0.0991 - val_loss: 0.1478\n",
      "Epoch 10/20\n",
      "\u001b[1m469/469\u001b[0m \u001b[32m━━━━━━━━━━━━━━━━━━━━\u001b[0m\u001b[37m\u001b[0m \u001b[1m3s\u001b[0m 6ms/step - accuracy: 0.9956 - ce_loss: 0.0156 - kl_loss: 30.4503 - recon_loss: 0.0324 - total_loss: 0.0946 - val_loss: 0.1474\n",
      "Epoch 11/20\n",
      "\u001b[1m469/469\u001b[0m \u001b[32m━━━━━━━━━━━━━━━━━━━━\u001b[0m\u001b[37m\u001b[0m \u001b[1m3s\u001b[0m 6ms/step - accuracy: 0.9962 - ce_loss: 0.0130 - kl_loss: 29.6911 - recon_loss: 0.0316 - total_loss: 0.0900 - val_loss: 0.1450\n",
      "Epoch 12/20\n",
      "\u001b[1m469/469\u001b[0m \u001b[32m━━━━━━━━━━━━━━━━━━━━\u001b[0m\u001b[37m\u001b[0m \u001b[1m3s\u001b[0m 6ms/step - accuracy: 0.9966 - ce_loss: 0.0117 - kl_loss: 29.1767 - recon_loss: 0.0307 - total_loss: 0.0869 - val_loss: 0.1464\n",
      "Epoch 13/20\n",
      "\u001b[1m469/469\u001b[0m \u001b[32m━━━━━━━━━━━━━━━━━━━━\u001b[0m\u001b[37m\u001b[0m \u001b[1m3s\u001b[0m 5ms/step - accuracy: 0.9971 - ce_loss: 0.0104 - kl_loss: 28.8603 - recon_loss: 0.0299 - total_loss: 0.0841 - val_loss: 0.1547\n",
      "Epoch 14/20\n",
      "\u001b[1m469/469\u001b[0m \u001b[32m━━━━━━━━━━━━━━━━━━━━\u001b[0m\u001b[37m\u001b[0m \u001b[1m3s\u001b[0m 6ms/step - accuracy: 0.9974 - ce_loss: 0.0093 - kl_loss: 28.3636 - recon_loss: 0.0293 - total_loss: 0.0817 - val_loss: 0.1374\n",
      "Epoch 15/20\n",
      "\u001b[1m469/469\u001b[0m \u001b[32m━━━━━━━━━━━━━━━━━━━━\u001b[0m\u001b[37m\u001b[0m \u001b[1m2s\u001b[0m 5ms/step - accuracy: 0.9978 - ce_loss: 0.0083 - kl_loss: 27.6704 - recon_loss: 0.0289 - total_loss: 0.0793 - val_loss: 0.1435\n",
      "Epoch 16/20\n",
      "\u001b[1m469/469\u001b[0m \u001b[32m━━━━━━━━━━━━━━━━━━━━\u001b[0m\u001b[37m\u001b[0m \u001b[1m3s\u001b[0m 6ms/step - accuracy: 0.9975 - ce_loss: 0.0086 - kl_loss: 27.6772 - recon_loss: 0.0282 - total_loss: 0.0786 - val_loss: 0.1375\n",
      "Epoch 17/20\n",
      "\u001b[1m469/469\u001b[0m \u001b[32m━━━━━━━━━━━━━━━━━━━━\u001b[0m\u001b[37m\u001b[0m \u001b[1m3s\u001b[0m 5ms/step - accuracy: 0.9979 - ce_loss: 0.0076 - kl_loss: 27.2129 - recon_loss: 0.0278 - total_loss: 0.0765 - val_loss: 0.1381\n",
      "Epoch 18/20\n",
      "\u001b[1m469/469\u001b[0m \u001b[32m━━━━━━━━━━━━━━━━━━━━\u001b[0m\u001b[37m\u001b[0m \u001b[1m2s\u001b[0m 5ms/step - accuracy: 0.9979 - ce_loss: 0.0073 - kl_loss: 27.1766 - recon_loss: 0.0273 - total_loss: 0.0753 - val_loss: 0.1437\n",
      "Epoch 19/20\n",
      "\u001b[1m469/469\u001b[0m \u001b[32m━━━━━━━━━━━━━━━━━━━━\u001b[0m\u001b[37m\u001b[0m \u001b[1m2s\u001b[0m 5ms/step - accuracy: 0.9981 - ce_loss: 0.0066 - kl_loss: 26.7148 - recon_loss: 0.0269 - total_loss: 0.0736 - val_loss: 0.1484\n",
      "Epoch 20/20\n",
      "\u001b[1m469/469\u001b[0m \u001b[32m━━━━━━━━━━━━━━━━━━━━\u001b[0m\u001b[37m\u001b[0m \u001b[1m2s\u001b[0m 5ms/step - accuracy: 0.9982 - ce_loss: 0.0062 - kl_loss: 26.5683 - recon_loss: 0.0266 - total_loss: 0.0726 - val_loss: 0.1353\n"
     ]
    }
   ],
   "source": [
    "gamma = 1.5\n",
    "dib_model = DIBModel(latent_dim=32, beta=1e-3, gamma = gamma)\n",
    "dib_model.compile(loss = keras.losses.CategoricalCrossentropy())\n",
    "# Train\n",
    "history = dib_model.fit(\n",
    "    X_train, y_train,\n",
    "    epochs=20,\n",
    "    batch_size=128,\n",
    "    validation_data=(X_test, y_test)\n",
    ")"
   ]
  },
  {
   "cell_type": "code",
   "execution_count": 27,
   "metadata": {},
   "outputs": [
    {
     "name": "stdout",
     "output_type": "stream",
     "text": [
      "\u001b[1m313/313\u001b[0m \u001b[32m━━━━━━━━━━━━━━━━━━━━\u001b[0m\u001b[37m\u001b[0m \u001b[1m1s\u001b[0m 2ms/step\n",
      "tf.Tensor(0.9826, shape=(), dtype=float32)\n"
     ]
    }
   ],
   "source": [
    "y_pred, x_recon, mean, log_var = dib_model.predict(X_test)\n",
    "accuracy = tf.reduce_mean(keras.metrics.categorical_accuracy(y_test, y_pred))\n",
    "print(accuracy)"
   ]
  },
  {
   "cell_type": "code",
   "execution_count": 28,
   "metadata": {},
   "outputs": [
    {
     "name": "stdout",
     "output_type": "stream",
     "text": [
      "\u001b[1m1/1\u001b[0m \u001b[32m━━━━━━━━━━━━━━━━━━━━\u001b[0m\u001b[37m\u001b[0m \u001b[1m0s\u001b[0m 16ms/step\n"
     ]
    }
   ],
   "source": [
    "y_pred, x_recon, mean, log_var = dib_model.predict(np.expand_dims(image, axis = 0))"
   ]
  },
  {
   "cell_type": "code",
   "execution_count": 29,
   "metadata": {},
   "outputs": [
    {
     "data": {
      "image/png": "[encoded data removed]",
      "text/plain": [
       "<Figure size 500x300 with 3 Axes>"
      ]
     },
     "metadata": {},
     "output_type": "display_data"
    }
   ],
   "source": [
    "plt.figure(figsize = (5, 3))\n",
    "plt.axis('off')\n",
    "plt.title(f'Gamma: {gamma}, Accuracy: {round(float(accuracy.numpy()) * 100, 3)}')\n",
    "\n",
    "plt.subplot(1, 2, 1)\n",
    "plt.title('Original')\n",
    "plt.axis('off')\n",
    "plt.imshow(image, cmap = 'gray')\n",
    "\n",
    "plt.subplot(1, 2, 2)\n",
    "plt.title(f'Reconstructed')\n",
    "plt.axis('off')\n",
    "plt.imshow(x_recon[0], cmap = 'gray')\n",
    "\n",
    "plt.show()"
   ]
  }
 ],
 "metadata": {
  "kernelspec": {
   "display_name": "VIT",
   "language": "python",
   "name": "python3"
  },
  "language_info": {
   "codemirror_mode": {
    "name": "ipython",
    "version": 3
   },
   "file_extension": ".py",
   "mimetype": "text/x-python",
   "name": "python",
   "nbconvert_exporter": "python",
   "pygments_lexer": "ipython3",
   "version": "3.11.10"
  }
 },
 "nbformat": 4,
 "nbformat_minor": 2
}
